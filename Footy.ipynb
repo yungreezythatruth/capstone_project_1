{
 "cells": [
  {
   "cell_type": "markdown",
   "metadata": {
    "nteract": {
     "transient": {
      "deleting": false
     }
    }
   },
   "source": [
    "## Data Importation \n"
   ]
  },
  {
   "cell_type": "code",
   "execution_count": 58,
   "metadata": {
    "jupyter": {
     "outputs_hidden": false,
     "source_hidden": false
    },
    "nteract": {
     "transient": {
      "deleting": false
     }
    }
   },
   "outputs": [],
   "source": [
    "#Importing python paackages \n",
    "import pandas as pd \n",
    "import numpy as np"
   ]
  },
  {
   "cell_type": "code",
   "execution_count": 60,
   "metadata": {
    "jupyter": {
     "outputs_hidden": false,
     "source_hidden": false
    },
    "nteract": {
     "transient": {
      "deleting": false
     }
    }
   },
   "outputs": [],
   "source": [
    "#importing events dataset\n",
    "prem = pd.read_json('/Users/yungreezy/events_England.json') \n",
    "ligue1 = pd.read_json('/Users/yungreezy/events_France.json')\n",
    "bundesliga = pd.read_json('/Users/yungreezy/events_Germany.json')\n",
    "seriea= pd.read_json('/Users/yungreezy/events_Italy.json')\n",
    "laliga = pd.read_json('/Users/yungreezy/events_spain.json')"
   ]
  },
  {
   "cell_type": "markdown",
   "metadata": {
    "nteract": {
     "transient": {
      "deleting": false
     }
    }
   },
   "source": [
    "## Data Wrangling"
   ]
  },
  {
   "cell_type": "code",
   "execution_count": 62,
   "metadata": {
    "execution": {
     "iopub.execute_input": "2020-08-17T22:06:44.485Z",
     "iopub.status.busy": "2020-08-17T22:06:44.478Z",
     "iopub.status.idle": "2020-08-17T22:07:07.417Z",
     "shell.execute_reply": "2020-08-17T22:07:07.509Z"
    },
    "jupyter": {
     "outputs_hidden": false,
     "source_hidden": false
    },
    "nteract": {
     "transient": {
      "deleting": false
     }
    }
   },
   "outputs": [],
   "source": [
    "#Merging Datasets from different leagues\n",
    "all_leagues = pd.concat([prem, ligue1, bundesliga, seriea, laliga])\n",
    "\n",
    "#Sorting data chronologically \n",
    "all_leagues.sort_values(by=['matchId','matchPeriod', 'eventSec'], inplace=True) \n",
    "\n",
    "#creating dummy fields \n",
    "all_leagues['PotentialChance'] = all_leagues['subEventName'].apply(lambda x: 1 if x == 'Shot' else 0).shift(-1) \n",
    "all_leagues['Interruption_dummy'] = all_leagues['eventName'].apply(lambda x: 1 if x in ['Interruption', 'Foul', 'Offside'] else 0) \n",
    "\n",
    "#creating nominal fields for tracking interruptions sequences and chances\n",
    "all_leagues['Interruption'] = all_leagues['eventName'].apply(lambda x: 'interruption' if x in ['Interruption', 'Foul', 'Offside'] else 'seq') \n",
    "all_leagues.loc[all_leagues['PotentialChance']==1,'Interruption']='chancecreated' \n",
    "\n",
    "#seperating data by matches so event sequences don't spill between matches in the dataset\n",
    "all_leagues1 = all_leagues.groupby('matchId') \n",
    "all_leagues1 = pd.concat([i.append({'value': np.nan}, ignore_index=True) for _, i in all_leagues1]) \n",
    "all_leagues1['Interruption_dummy'] = all_leagues1['Interruption_dummy'].fillna(1).shift(1) \n",
    "all_leagues1['Interruption'] = all_leagues1['Interruption'].fillna('opening whistle').shift(1)  \n",
    "\n",
    "all_leagues1 = all_leagues1.groupby(['matchId','matchPeriod']) \n",
    "all_leagues1 = pd.concat([i.append({'value': np.nan}, ignore_index=True) for _, i in all_leagues1]) \n",
    "all_leagues1['Interruption'] = all_leagues1['Interruption'].fillna('halftime whistle')\n",
    "\n",
    "all_leagues1['value'] = all_leagues1['Interruption'].apply(lambda x: 'final whistle' if x == 'opening whistle' else 'value').shift(-1) \n",
    "all_leagues1.loc[all_leagues1['value'] == 'final whistle', 'Interruption'] = 'final whistle' \n",
    "all_leagues1['Interruption_dummy'] = all_leagues1['Interruption_dummy'].fillna(1) \n",
    "\n",
    "all_leagues1.loc[0,'Interruption_dummy'] = 1 \n",
    "\n",
    "all_leagues1.loc[0,'Interruption'] = 'opening whistle'\n",
    "all_leagues1 = all_leagues1.drop(columns = 'value') \n",
    "all_leagues1 = all_leagues1.reset_index()\n",
    "\n"
   ]
  },
  {
   "cell_type": "code",
   "execution_count": 64,
   "metadata": {
    "execution": {
     "iopub.execute_input": "2020-08-12T22:02:33.378Z",
     "iopub.status.busy": "2020-08-12T22:02:33.367Z",
     "iopub.status.idle": "2020-08-12T22:02:33.641Z",
     "shell.execute_reply": "2020-08-12T22:02:33.649Z"
    },
    "jupyter": {
     "outputs_hidden": false,
     "source_hidden": false
    },
    "nteract": {
     "transient": {
      "deleting": false
     }
    }
   },
   "outputs": [],
   "source": [
    "# extracting dataframe indexes corresponding to chances created/interruptions\n",
    "chancecreated_index = all_leagues1[all_leagues1['Interruption'] == 'chancecreated'].index.tolist() \n",
    "interruptions_index = all_leagues1[all_leagues1['Interruption'] == 'interruption'].index.tolist() "
   ]
  },
  {
   "cell_type": "code",
   "execution_count": 66,
   "metadata": {
    "execution": {
     "iopub.execute_input": "2020-08-17T22:07:07.766Z",
     "iopub.status.busy": "2020-08-17T22:07:07.726Z",
     "iopub.status.idle": "2020-08-17T22:08:11.462Z",
     "shell.execute_reply": "2020-08-17T22:08:11.570Z"
    },
    "jupyter": {
     "outputs_hidden": false,
     "source_hidden": false
    },
    "nteract": {
     "transient": {
      "deleting": false
     }
    }
   },
   "outputs": [],
   "source": [
    "#creating a list of interruptions that immediately precede a chance created.\n",
    "lazt_interruptions = []\n",
    "for c in chancecreated_index:\n",
    "    binlist = []\n",
    "    for i in interruptions_index:\n",
    "        diff = c - i\n",
    "        if diff > 0 and i < c:\n",
    "            binlist.append(i)\n",
    "    lazt_interruptions.append(max(binlist)) "
   ]
  },
  {
   "cell_type": "code",
   "execution_count": 68,
   "metadata": {
    "execution": {
     "iopub.execute_input": "2020-08-17T22:08:11.539Z",
     "iopub.status.busy": "2020-08-17T22:08:11.532Z",
     "iopub.status.idle": "2020-08-17T22:08:11.551Z",
     "shell.execute_reply": "2020-08-17T22:08:11.574Z"
    },
    "jupyter": {
     "outputs_hidden": false,
     "source_hidden": false
    },
    "nteract": {
     "transient": {
      "deleting": false
     }
    }
   },
   "outputs": [],
   "source": [
    "#creating a list of (interruption, chance created) pairs for use in the new dataframe. \n",
    "sequences = list(zip(lazt_interruptions, chancecreated_index)) "
   ]
  },
  {
   "cell_type": "code",
   "execution_count": 70,
   "metadata": {
    "execution": {
     "iopub.execute_input": "2020-08-17T22:08:11.561Z",
     "iopub.status.busy": "2020-08-17T22:08:11.557Z",
     "iopub.status.idle": "2020-08-12T22:03:47.310Z",
     "shell.execute_reply": "2020-08-12T22:03:47.379Z"
    },
    "jupyter": {
     "outputs_hidden": false,
     "source_hidden": false
    },
    "nteract": {
     "transient": {
      "deleting": false
     }
    }
   },
   "outputs": [],
   "source": [
    "#attempting to generate a new event sequence dataframe.\n",
    "final_df = pd.DataFrame()\n",
    "for int_idx, cha_idx in sequences:\n",
    "    temp_df = prem3.iloc[int_idx:cha_idx,:].copy()\n",
    "    event_count = temp_df.subEventName.value_counts()\n",
    "    for event in event_count.index.to_list():\n",
    "        final_df.loc[int_idx,:] = event_count.loc[event]"
   ]
  },
  {
   "cell_type": "code",
   "execution_count": 72,
   "metadata": {},
   "outputs": [],
   "source": [
    "interchance_list =[]\n",
    "\n",
    "for i in sequences:\n",
    "    interchance_list.append(prem3.iloc[i[0]:i[1],:].copy())"
   ]
  },
  {
   "cell_type": "code",
   "execution_count": 73,
   "metadata": {},
   "outputs": [],
   "source": [
    "counts = []\n",
    "for i in interchance_list: \n",
    "    counts.append(i['subEventName'].value_counts())"
   ]
  },
  {
   "cell_type": "code",
   "execution_count": 74,
   "metadata": {},
   "outputs": [],
   "source": [
    "counts2 = []\n",
    "for i in counts:\n",
    "    counts2.append(i.reset_index())"
   ]
  },
  {
   "cell_type": "code",
   "execution_count": 75,
   "metadata": {},
   "outputs": [],
   "source": [
    "counts4 = []\n",
    "for i in counts:\n",
    "    counts4.append(i.to_frame())"
   ]
  },
  {
   "cell_type": "code",
   "execution_count": 78,
   "metadata": {},
   "outputs": [],
   "source": [
    "event_list = ['Air duel','Ground attacking duel','Ground defending duel','Ground loose ball duel','Foul','Hand foul','Late card foul','Out of game foul','Protest','Simulation','Time lost foul','Violent Foul','Corner','Free Kick','Free kick cross','Free kick shot','Goal kick','Penalty','Throw in','Goalkeeper leaving line','Ball out of the field','Whistle','Offside','Acceleration','Clearance','Touch','Cross','Hand pass','Head pass','High pass','Launch','Simple pass','Smart pass','Reflexes','Save attempt','Shot']\n",
    "simplepass_count = []\n",
    "for i in counts4:\n",
    "    if 'Simple pass' in i.index:\n",
    "        simplepass_count.append(i.loc['Simple pass', 'subEventName'])\n",
    "    else: \n",
    "        simplepass_count.append(0)\n",
    "\n",
    "airduel_count = []\n",
    "for i in counts4:\n",
    "    if 'Air duel' in i.index:\n",
    "        airduel_count.append(i.loc['Air duel', 'subEventName'])\n",
    "    else: \n",
    "        airduel_count.append(0)\n",
    "\n",
    "groundattack_count = []\n",
    "for i in counts4:\n",
    "    if 'Ground attacking duel' in i.index:\n",
    "        groundattack_count.append(i.loc['Ground attacking duel', 'subEventName'])\n",
    "    else: \n",
    "        groundattack_count.append(0)\n",
    "\n",
    "grounddefend_count = []\n",
    "for i in counts4:\n",
    "    if 'Ground defending duel' in i.index:\n",
    "        grounddefend_count.append(i.loc['Ground defending duel', 'subEventName'])\n",
    "    else: \n",
    "        grounddefend_count.append(0)\n",
    "        \n",
    "groundloose_count = []\n",
    "for i in counts4:\n",
    "    if 'Ground loose ball duel' in i.index:\n",
    "        groundloose_count.append(i.loc['Ground loose ball duel', 'subEventName'])\n",
    "    else: \n",
    "        groundloose_count.append(0)\n",
    "        \n",
    "foul_count = []\n",
    "for i in counts4:\n",
    "    if 'Foul' in i.index:\n",
    "        foul_count.append(i.loc['Foul', 'subEventName'])\n",
    "    else: \n",
    "        foul_count.append(0)\n",
    "\n",
    "outofgamefoul_count = []\n",
    "for i in counts4:\n",
    "    if 'Out of game foul' in i.index:\n",
    "        outofgamefoul_count.append(i.loc['Out of game foul', 'subEventName'])\n",
    "    else: \n",
    "        outofgamefoul_count.append(0)\n",
    "        \n",
    "handfoul_count = []\n",
    "for i in counts4:\n",
    "    if 'Hand foul' in i.index:\n",
    "        handfoul_count.append(i.loc['Hand foul', 'subEventName'])\n",
    "    else: \n",
    "        handfoul_count.append(0)\n",
    "\n",
    "latecardfoul_count = []\n",
    "for i in counts4:\n",
    "    if 'Late card foul' in i.index:\n",
    "        latecardfoul_count.append(i.loc['Late card foul', 'subEventName'])\n",
    "    else: \n",
    "        latecardfoul_count.append(0)\n",
    "    \n",
    "protest_count = []\n",
    "for i in counts4:\n",
    "    if 'Protest' in i.index:\n",
    "        protest_count.append(i.loc['Protest', 'subEventName'])\n",
    "    else: \n",
    "        protest_count.append(0)\n",
    "\n",
    "simulation_count = []\n",
    "for i in counts4:\n",
    "    if 'Simulation' in i.index:\n",
    "        simulation_count.append(i.loc['Simulation', 'subEventName'])\n",
    "    else: \n",
    "        simulation_count.append(0)\n",
    "        \n",
    "timelostfoul_count = []\n",
    "for i in counts4:\n",
    "    if 'Time lost foul' in i.index:\n",
    "        timelostfoul_count.append(i.loc['Time lost foul', 'subEventName'])\n",
    "    else: \n",
    "        timelostfoul_count.append(0)\n",
    "        \n",
    "violentfoul_count = []\n",
    "for i in counts4:\n",
    "    if 'Violent Foul' in i.index:\n",
    "        timelostfoul_count.append(i.loc['Violent Foul', 'subEventName'])\n",
    "    else: \n",
    "        timelostfoul_count.append(0)\n",
    "        \n",
    "corner_count = []\n",
    "for i in counts4:\n",
    "    if 'Corner' in i.index:\n",
    "        corner_count.append(i.loc['Corner', 'subEventName'])\n",
    "    else: \n",
    "        corner_count.append(0)\n",
    "\n",
    "freekick_count = []\n",
    "for i in counts4:\n",
    "    if 'Free Kick' in i.index:\n",
    "        freekick_count.append(i.loc['Free Kick', 'subEventName'])\n",
    "    else: \n",
    "        freekick_count.append(0)\n",
    "\n",
    "freekickcross_count = []\n",
    "for i in counts4:\n",
    "    if 'Free kick cross' in i.index:\n",
    "        freekickcross_count.append(i.loc['Free kick cross', 'subEventName'])\n",
    "    else: \n",
    "        freekickcross_count.append(0)\n",
    "        \n",
    "freekickshot_count = []\n",
    "for i in counts4:\n",
    "    if 'Free kick shot' in i.index:\n",
    "        freekickshot_count.append(i.loc['Free kick shot', 'subEventName'])\n",
    "    else: \n",
    "        freekickshot_count.append(0)\n",
    "\n",
    "goalkick_count = []\n",
    "for i in counts4:\n",
    "    if 'Goal kick' in i.index:\n",
    "        goalkick_count.append(i.loc['Goal kick', 'subEventName'])\n",
    "    else: \n",
    "        goalkick_count.append(0)\n",
    "\n",
    "penalty_count = []\n",
    "for i in counts4:\n",
    "    if 'Penalty' in i.index:\n",
    "        penalty_count.append(i.loc['Penalty', 'subEventName'])\n",
    "    else: \n",
    "        penalty_count.append(0)\n",
    "        \n",
    "throwin_count = []\n",
    "for i in counts4:\n",
    "    if 'Throw in' in i.index:\n",
    "        throwin_count.append(i.loc['Throw in', 'subEventName'])\n",
    "    else: \n",
    "        throwin_count.append(0)\n",
    "\n",
    "keeperline_count = []\n",
    "for i in counts4:\n",
    "    if 'Goalkeeper leaving line' in i.index:\n",
    "        keeperline_count.append(i.loc['Goalkeeper leaving line', 'subEventName'])\n",
    "    else: \n",
    "        keeperline_count.append(0)\n",
    "        \n",
    "outoffield_count = []\n",
    "for i in counts4:\n",
    "    if 'Ball out of the field' in i.index:\n",
    "        outoffield_count.append(i.loc['Ball out of the field', 'subEventName'])\n",
    "    else: \n",
    "        outoffield_count.append(0)\n",
    "        \n",
    "whistle_count = []\n",
    "for i in counts4:\n",
    "    if 'Whistle' in i.index:\n",
    "        whistle_count.append(i.loc['Whistle', 'subEventName'])\n",
    "    else: \n",
    "        whistle_count.append(0)\n",
    "\n",
    "offside_count = []\n",
    "for i in counts4:\n",
    "    if 'Offside' in i.index:\n",
    "        offside_count.append(i.loc['Offside', 'subEventName'])\n",
    "    else: \n",
    "        offside_count.append(0)\n",
    "        \n",
    "acceleration_count = []\n",
    "for i in counts4:\n",
    "    if 'Acceleration' in i.index:\n",
    "        acceleration_count.append(i.loc['Acceleration', 'subEventName'])\n",
    "    else: \n",
    "        acceleration_count.append(0)\n",
    "        \n",
    "clearance_count = []\n",
    "for i in counts4:\n",
    "    if 'Clearance' in i.index:\n",
    "        clearance_count.append(i.loc['Clearance', 'subEventName'])\n",
    "    else: \n",
    "        clearance_count.append(0)\n",
    "        \n",
    "touch_count = []\n",
    "for i in counts4:\n",
    "    if 'Touch' in i.index:\n",
    "        touch_count.append(i.loc['Touch', 'subEventName'])\n",
    "    else: \n",
    "        touch_count.append(0)\n",
    "        \n",
    "cross_count = []\n",
    "for i in counts4:\n",
    "    if 'Cross' in i.index:\n",
    "        cross_count.append(i.loc['Cross', 'subEventName'])\n",
    "    else: \n",
    "        cross_count.append(0)\n",
    "\n",
    "handpass_count = []\n",
    "for i in counts4:\n",
    "    if 'Hand pass' in i.index:\n",
    "        handpass_count.append(i.loc['Hand pass', 'subEventName'])\n",
    "    else: \n",
    "        handpass_count.append(0)\n",
    "\n",
    "headpass_count = []\n",
    "for i in counts4:\n",
    "    if 'Head pass' in i.index:\n",
    "        headpass_count.append(i.loc['Head pass', 'subEventName'])\n",
    "    else: \n",
    "        headpass_count.append(0)\n",
    "\n",
    "highpass_count = []\n",
    "for i in counts4:\n",
    "    if 'High pass' in i.index:\n",
    "        highpass_count.append(i.loc['High pass', 'subEventName'])\n",
    "    else: \n",
    "        highpass_count.append(0)\n",
    "\n",
    "launch_count = []\n",
    "for i in counts4:\n",
    "    if 'Launch' in i.index:\n",
    "        launch_count.append(i.loc['Launch', 'subEventName'])\n",
    "    else: \n",
    "        launch_count.append(0)\n",
    "    \n",
    "smartpass_count = []\n",
    "for i in counts4:\n",
    "    if 'Smart pass' in i.index:\n",
    "        smartpass_count.append(i.loc['Smart pass', 'subEventName'])\n",
    "    else: \n",
    "        smartpass_count.append(0)\n",
    "\n",
    "reflexes_count = []\n",
    "for i in counts4:\n",
    "    if 'Reflexes' in i.index:\n",
    "        reflexes_count.append(i.loc['Reflexes', 'subEventName'])\n",
    "    else: \n",
    "        reflexes_count.append(0)\n",
    "\n",
    "saveattempt_count = []\n",
    "for i in counts4:\n",
    "    if 'Save attempt' in i.index:\n",
    "        saveattempt_count.append(i.loc['Save attempt', 'subEventName'])\n",
    "    else: \n",
    "        saveattempt_count.append(0)\n",
    "        \n",
    "shot_count = []\n",
    "for i in counts4:\n",
    "    if 'Shot' in i.index:\n",
    "        shot_count.append(i.loc['Shot', 'subEventName'])\n",
    "    else: \n",
    "        shot_count.append(0)"
   ]
  },
  {
   "cell_type": "code",
   "execution_count": 136,
   "metadata": {},
   "outputs": [],
   "source": [
    "d = {'Simple Pass': simplepass_count,\n",
    "     'Air Duel': airduel_count,\n",
    "     'G A Duel': groundattack_count,\n",
    "     'G D Duel': grounddefend_count,\n",
    "     'G L Duel': groundloose_count,\n",
    "     'Foul': foul_count,\n",
    "     'Out Foul': outofgamefoul_count,\n",
    "     'Hand Foul': handfoul_count,\n",
    "     'Late Foul': latecardfoul_count,\n",
    "     'Protest': protest_count,\n",
    "     'Simulation': simulation_count,\n",
    "     'Corner Count': corner_count,\n",
    "     'Free Kick': freekick_count,\n",
    "     'Free Kick Cross': freekickcross_count,\n",
    "     'Free Kick Shot': freekickshot_count,\n",
    "     'Goal Kick': goalkick_count,\n",
    "     'Penalty': penalty_count,\n",
    "     'Throw In': throwin_count,\n",
    "     'Keeper Off Line': keeperline_count,\n",
    "     'Out Of Field': outoffield_count,\n",
    "     'Whistle': whistle_count,\n",
    "     'Offside': offside_count,\n",
    "     'Acceleration': acceleration_count,\n",
    "     'Clearance': clearance_count,\n",
    "     'Touch': touch_count,\n",
    "     'Cross': cross_count,\n",
    "     'Hand Pass': handpass_count,\n",
    "     'Head Pass': headpass_count,\n",
    "     'High Pass': highpass_count,\n",
    "     'Launch': launch_count,\n",
    "     'Smart Pass': smartpass_count,\n",
    "     'Reflexes': reflexes_count,\n",
    "     'Save Attempt': saveattempt_count,\n",
    "     'Shot': shot_count}\n",
    "\n",
    "sequences_df = pd.DataFrame(data=d)"
   ]
  },
  {
   "cell_type": "code",
   "execution_count": 143,
   "metadata": {},
   "outputs": [
    {
     "data": {
      "text/plain": [
       "40458"
      ]
     },
     "execution_count": 143,
     "metadata": {},
     "output_type": "execute_result"
    }
   ],
   "source": [
    "len(sequences_df)"
   ]
  },
  {
   "cell_type": "code",
   "execution_count": 145,
   "metadata": {},
   "outputs": [
    {
     "data": {
      "text/html": [
       "<div>\n",
       "<style scoped>\n",
       "    .dataframe tbody tr th:only-of-type {\n",
       "        vertical-align: middle;\n",
       "    }\n",
       "\n",
       "    .dataframe tbody tr th {\n",
       "        vertical-align: top;\n",
       "    }\n",
       "\n",
       "    .dataframe thead th {\n",
       "        text-align: right;\n",
       "    }\n",
       "</style>\n",
       "<table border=\"1\" class=\"dataframe\">\n",
       "  <thead>\n",
       "    <tr style=\"text-align: right;\">\n",
       "      <th></th>\n",
       "      <th>eventId</th>\n",
       "      <th>subEventName</th>\n",
       "      <th>tags</th>\n",
       "      <th>playerId</th>\n",
       "      <th>positions</th>\n",
       "      <th>matchId</th>\n",
       "      <th>eventName</th>\n",
       "      <th>teamId</th>\n",
       "      <th>matchPeriod</th>\n",
       "      <th>eventSec</th>\n",
       "      <th>subEventId</th>\n",
       "      <th>id</th>\n",
       "      <th>PotentialChance</th>\n",
       "      <th>Interruption_dummy</th>\n",
       "      <th>Interruption</th>\n",
       "    </tr>\n",
       "  </thead>\n",
       "  <tbody>\n",
       "    <tr>\n",
       "      <th>0</th>\n",
       "      <td>8</td>\n",
       "      <td>Simple pass</td>\n",
       "      <td>[{'id': 1801}]</td>\n",
       "      <td>25413</td>\n",
       "      <td>[{'y': 49, 'x': 49}, {'y': 78, 'x': 31}]</td>\n",
       "      <td>2499719</td>\n",
       "      <td>Pass</td>\n",
       "      <td>1609</td>\n",
       "      <td>1H</td>\n",
       "      <td>2.758649</td>\n",
       "      <td>85</td>\n",
       "      <td>177959171</td>\n",
       "      <td>0.0</td>\n",
       "      <td>0</td>\n",
       "      <td>seq</td>\n",
       "    </tr>\n",
       "    <tr>\n",
       "      <th>1</th>\n",
       "      <td>8</td>\n",
       "      <td>High pass</td>\n",
       "      <td>[{'id': 1801}]</td>\n",
       "      <td>370224</td>\n",
       "      <td>[{'y': 78, 'x': 31}, {'y': 75, 'x': 51}]</td>\n",
       "      <td>2499719</td>\n",
       "      <td>Pass</td>\n",
       "      <td>1609</td>\n",
       "      <td>1H</td>\n",
       "      <td>4.946850</td>\n",
       "      <td>83</td>\n",
       "      <td>177959172</td>\n",
       "      <td>0.0</td>\n",
       "      <td>0</td>\n",
       "      <td>seq</td>\n",
       "    </tr>\n",
       "    <tr>\n",
       "      <th>2</th>\n",
       "      <td>8</td>\n",
       "      <td>Head pass</td>\n",
       "      <td>[{'id': 1801}]</td>\n",
       "      <td>3319</td>\n",
       "      <td>[{'y': 75, 'x': 51}, {'y': 71, 'x': 35}]</td>\n",
       "      <td>2499719</td>\n",
       "      <td>Pass</td>\n",
       "      <td>1609</td>\n",
       "      <td>1H</td>\n",
       "      <td>6.542188</td>\n",
       "      <td>82</td>\n",
       "      <td>177959173</td>\n",
       "      <td>0.0</td>\n",
       "      <td>0</td>\n",
       "      <td>seq</td>\n",
       "    </tr>\n",
       "    <tr>\n",
       "      <th>3</th>\n",
       "      <td>8</td>\n",
       "      <td>Head pass</td>\n",
       "      <td>[{'id': 1801}]</td>\n",
       "      <td>120339</td>\n",
       "      <td>[{'y': 71, 'x': 35}, {'y': 95, 'x': 41}]</td>\n",
       "      <td>2499719</td>\n",
       "      <td>Pass</td>\n",
       "      <td>1609</td>\n",
       "      <td>1H</td>\n",
       "      <td>8.143395</td>\n",
       "      <td>82</td>\n",
       "      <td>177959174</td>\n",
       "      <td>0.0</td>\n",
       "      <td>0</td>\n",
       "      <td>seq</td>\n",
       "    </tr>\n",
       "    <tr>\n",
       "      <th>4</th>\n",
       "      <td>8</td>\n",
       "      <td>Simple pass</td>\n",
       "      <td>[{'id': 1801}]</td>\n",
       "      <td>167145</td>\n",
       "      <td>[{'y': 95, 'x': 41}, {'y': 88, 'x': 72}]</td>\n",
       "      <td>2499719</td>\n",
       "      <td>Pass</td>\n",
       "      <td>1609</td>\n",
       "      <td>1H</td>\n",
       "      <td>10.302366</td>\n",
       "      <td>85</td>\n",
       "      <td>177959175</td>\n",
       "      <td>0.0</td>\n",
       "      <td>0</td>\n",
       "      <td>seq</td>\n",
       "    </tr>\n",
       "  </tbody>\n",
       "</table>\n",
       "</div>"
      ],
      "text/plain": [
       "   eventId subEventName            tags  playerId  \\\n",
       "0        8  Simple pass  [{'id': 1801}]     25413   \n",
       "1        8    High pass  [{'id': 1801}]    370224   \n",
       "2        8    Head pass  [{'id': 1801}]      3319   \n",
       "3        8    Head pass  [{'id': 1801}]    120339   \n",
       "4        8  Simple pass  [{'id': 1801}]    167145   \n",
       "\n",
       "                                  positions  matchId eventName  teamId  \\\n",
       "0  [{'y': 49, 'x': 49}, {'y': 78, 'x': 31}]  2499719      Pass    1609   \n",
       "1  [{'y': 78, 'x': 31}, {'y': 75, 'x': 51}]  2499719      Pass    1609   \n",
       "2  [{'y': 75, 'x': 51}, {'y': 71, 'x': 35}]  2499719      Pass    1609   \n",
       "3  [{'y': 71, 'x': 35}, {'y': 95, 'x': 41}]  2499719      Pass    1609   \n",
       "4  [{'y': 95, 'x': 41}, {'y': 88, 'x': 72}]  2499719      Pass    1609   \n",
       "\n",
       "  matchPeriod   eventSec subEventId         id  PotentialChance  \\\n",
       "0          1H   2.758649         85  177959171              0.0   \n",
       "1          1H   4.946850         83  177959172              0.0   \n",
       "2          1H   6.542188         82  177959173              0.0   \n",
       "3          1H   8.143395         82  177959174              0.0   \n",
       "4          1H  10.302366         85  177959175              0.0   \n",
       "\n",
       "   Interruption_dummy Interruption  \n",
       "0                   0          seq  \n",
       "1                   0          seq  \n",
       "2                   0          seq  \n",
       "3                   0          seq  \n",
       "4                   0          seq  "
      ]
     },
     "execution_count": 145,
     "metadata": {},
     "output_type": "execute_result"
    }
   ],
   "source": [
    "all_leagues.head()"
   ]
  },
  {
   "cell_type": "code",
   "execution_count": null,
   "metadata": {},
   "outputs": [],
   "source": []
  }
 ],
 "metadata": {
  "kernel_info": {
   "name": "python3"
  },
  "kernelspec": {
   "display_name": "Python 3",
   "language": "python",
   "name": "python3"
  },
  "language_info": {
   "codemirror_mode": {
    "name": "ipython",
    "version": 3
   },
   "file_extension": ".py",
   "mimetype": "text/x-python",
   "name": "python",
   "nbconvert_exporter": "python",
   "pygments_lexer": "ipython3",
   "version": "3.7.6"
  },
  "nteract": {
   "version": "0.24.1"
  }
 },
 "nbformat": 4,
 "nbformat_minor": 1
}
